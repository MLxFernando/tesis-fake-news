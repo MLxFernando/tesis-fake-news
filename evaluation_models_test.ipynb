{
 "cells": [
  {
   "cell_type": "markdown",
   "metadata": {},
   "source": [
    "# Importar bibliotecas"
   ]
  },
  {
   "cell_type": "code",
   "execution_count": 1,
   "metadata": {},
   "outputs": [],
   "source": [
    "import sys\n",
    "import os\n",
    "from dotenv import load_dotenv\n",
    "import pandas as pd\n",
    "import numpy as np\n",
    "import matplotlib.pyplot as plt\n",
    "import seaborn as sns\n",
    "from sklearn.model_selection import train_test_split\n",
    "from sklearn.neighbors import KNeighborsClassifier\n",
    "from sklearn.naive_bayes import GaussianNB\n",
    "from sklearn.tree import DecisionTreeClassifier\n",
    "from sklearn.ensemble import RandomForestClassifier\n",
    "from sklearn.svm import SVC\n",
    "from sklearn.metrics import accuracy_score, precision_score, recall_score, f1_score, confusion_matrix, classification_report, roc_auc_score, roc_curve\n",
    "from sklearn.preprocessing import StandardScaler\n",
    "from sklearn.metrics import accuracy_score, precision_score, recall_score, f1_score, roc_auc_score, roc_curve, confusion_matrix, classification_report\n",
    "from sklearn.preprocessing import label_binarize"
   ]
  },
  {
   "cell_type": "markdown",
   "metadata": {},
   "source": [
    "# Cargar datos"
   ]
  },
  {
   "cell_type": "code",
   "execution_count": 2,
   "metadata": {},
   "outputs": [],
   "source": [
    "df = pd.read_csv(\"data/processed/data_preprocessed_final.csv\")"
   ]
  },
  {
   "cell_type": "code",
   "execution_count": 3,
   "metadata": {},
   "outputs": [],
   "source": [
    "X = df.iloc[:, 1:].drop('result', axis=1)\n",
    "y = df['result']"
   ]
  },
  {
   "cell_type": "code",
   "execution_count": 4,
   "metadata": {},
   "outputs": [],
   "source": [
    "# Escalar los datos\n",
    "scaler = StandardScaler()\n",
    "X_scaled = scaler.fit_transform(X)"
   ]
  },
  {
   "cell_type": "code",
   "execution_count": 5,
   "metadata": {},
   "outputs": [],
   "source": [
    "# Dividir datos en entrenamiento y prueba\n",
    "X_train, X_test, y_train, y_test = train_test_split(X, y, test_size=0.3, random_state=42)"
   ]
  },
  {
   "cell_type": "code",
   "execution_count": 7,
   "metadata": {},
   "outputs": [],
   "source": [
    "# Entrenar modelos\n",
    "models = {\n",
    "    \n",
    "    'Decision Tree': DecisionTreeClassifier(),\n",
    "    'Random Forest': RandomForestClassifier(n_jobs=-1),\n",
    "    'Support Vector Machine': SVC(probability=True)  \n",
    "}"
   ]
  },
  {
   "cell_type": "code",
   "execution_count": null,
   "metadata": {},
   "outputs": [
    {
     "name": "stdout",
     "output_type": "stream",
     "text": [
      "Model Name:  Decision Tree\n",
      "Accuracy:  0.5369938602626875\n",
      "Precision:  0.5644870464298531\n",
      "Recall:  0.5369938602626875\n",
      "F1 Score:  0.5487178397007508\n",
      "Model Name:  Random Forest\n",
      "Accuracy:  0.5886376000621746\n",
      "Precision:  0.5407456439329675\n",
      "Recall:  0.5886376000621746\n",
      "F1 Score:  0.5601783386733906\n"
     ]
    }
   ],
   "source": [
    "# Evaluar modelos\n",
    "results = {}\n",
    "confusion_matrices = {}\n",
    "roc_curves = {}\n",
    "\n",
    "for model_name, model in models.items():\n",
    "    model.fit(X_train, y_train)\n",
    "    y_pred = model.predict(X_test)\n",
    "    y_proba = model.predict_proba(X_test) if hasattr(model, \"predict_proba\") else None\n",
    "    \n",
    "    accuracy = accuracy_score(y_test, y_pred)\n",
    "    precision = precision_score(y_test, y_pred, average='weighted', zero_division=1)\n",
    "    recall = recall_score(y_test, y_pred, average='weighted', zero_division=1)\n",
    "    f1 = f1_score(y_test, y_pred, average='weighted', zero_division=1)\n",
    "    \n",
    "    print(\"Model Name: \", model_name)\n",
    "    print(\"Accuracy: \", accuracy)\n",
    "    print(\"Precision: \", precision)\n",
    "    print(\"Recall: \", recall)\n",
    "    print(\"F1 Score: \", f1)\n",
    "\n",
    "    # Calcular AUC solo si es binario o si hay predict_proba para multiclase\n",
    "    # if y_proba is not None:\n",
    "    #     if len(np.unique(y_test)) == 2:  # Clasificación binaria\n",
    "    #         auc = roc_auc_score(y_test, y_proba[:, 1])\n",
    "    #     else:  # Clasificación multiclase\n",
    "    #         y_test_bin = label_binarize(y_test, classes=np.unique(y_test))  # Binarizamos las etiquetas\n",
    "    #         auc = roc_auc_score(y_test_bin, y_proba, multi_class='ovr')\n",
    "    # else:\n",
    "    #     auc = None\n",
    "    \n",
    "    # results[model_name] = [accuracy, precision, recall, f1, auc]\n",
    "    \n",
    "    # # Calcular matriz de confusión\n",
    "    # confusion_matrices[model_name] = confusion_matrix(y_test, y_pred)\n",
    "    \n",
    "    # # Calcular ROC solo para problemas binarios\n",
    "    # if y_proba is not None and len(np.unique(y_test)) == 2:\n",
    "    #     fpr, tpr, _ = roc_curve(y_test, y_proba[:, 1])\n",
    "    #     roc_curves[model_name] = (fpr, tpr)\n",
    "    \n",
    "    # # Imprimir resultados\n",
    "    # print(f\"Model: {model_name}\")\n",
    "    # print(\"Confusion Matrix:\")\n",
    "    # print(confusion_matrices[model_name])\n",
    "    # print(\"Classification Report:\")\n",
    "    # print(classification_report(y_test, y_pred, zero_division=1))\n",
    "    # print(\"-\" * 60)"
   ]
  },
  {
   "cell_type": "code",
   "execution_count": null,
   "metadata": {},
   "outputs": [],
   "source": [
    "# Crear DataFrame con los resultados\n",
    "results_df = pd.DataFrame(results, index=['Accuracy', 'Precision', 'Recall', 'F1 Score', 'AUC']).T\n",
    "print(results_df)"
   ]
  },
  {
   "cell_type": "code",
   "execution_count": null,
   "metadata": {},
   "outputs": [],
   "source": [
    "# Visualizar resultados\n",
    "plt.figure(figsize=(10, 6))\n",
    "sns.barplot(data=results_df.drop(columns='AUC'))\n",
    "plt.title('Comparison of Machine Learning Models')\n",
    "plt.show()"
   ]
  },
  {
   "cell_type": "code",
   "execution_count": null,
   "metadata": {},
   "outputs": [],
   "source": [
    "# Visualizar las matrices de confusión\n",
    "fig, axes = plt.subplots(2, 2, figsize=(14, 10))\n",
    "axes = axes.flatten()\n",
    "for i, (model_name, cm) in enumerate(confusion_matrices.items()):\n",
    "    sns.heatmap(cm, annot=True, fmt='d', ax=axes[i], cmap='Blues')\n",
    "    axes[i].set_title(f'Confusion Matrix: {model_name}')\n",
    "    axes[i].set_xlabel('Predicted')\n",
    "    axes[i].set_ylabel('Actual')\n",
    "plt.tight_layout()\n",
    "plt.show()"
   ]
  },
  {
   "cell_type": "code",
   "execution_count": null,
   "metadata": {},
   "outputs": [],
   "source": [
    "# Visualizar las curvas ROC (solo para clasificación binaria)\n",
    "if len(np.unique(y)) == 2:\n",
    "    plt.figure(figsize=(10, 6))\n",
    "    for model_name, (fpr, tpr) in roc_curves.items():\n",
    "        plt.plot(fpr, tpr, label=f'{model_name} (AUC = {results[model_name][-1]:.2f})')\n",
    "    plt.plot([0, 1], [0, 1], 'k--')\n",
    "    plt.xlabel('False Positive Rate')\n",
    "    plt.ylabel('True Positive Rate')\n",
    "    plt.title('ROC Curves')\n",
    "    plt.legend(loc='lower right')\n",
    "    plt.show()"
   ]
  },
  {
   "cell_type": "code",
   "execution_count": null,
   "metadata": {},
   "outputs": [],
   "source": []
  }
 ],
 "metadata": {
  "kernelspec": {
   "display_name": "venv_tesis_fakenews",
   "language": "python",
   "name": "python3"
  },
  "language_info": {
   "codemirror_mode": {
    "name": "ipython",
    "version": 3
   },
   "file_extension": ".py",
   "mimetype": "text/x-python",
   "name": "python",
   "nbconvert_exporter": "python",
   "pygments_lexer": "ipython3",
   "version": "3.12.3"
  }
 },
 "nbformat": 4,
 "nbformat_minor": 4
}
