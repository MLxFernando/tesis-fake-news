{
 "cells": [
  {
   "cell_type": "markdown",
   "metadata": {},
   "source": [
    "# Importar bibliotecas"
   ]
  },
  {
   "cell_type": "code",
   "execution_count": 2,
   "metadata": {},
   "outputs": [],
   "source": [
    "import sys\n",
    "import os\n",
    "from dotenv import load_dotenv\n",
    "import pandas as pd\n",
    "import numpy as np\n",
    "import matplotlib.pyplot as plt\n",
    "import seaborn as sns\n",
    "from sklearn.model_selection import train_test_split\n",
    "from sklearn.neighbors import KNeighborsClassifier\n",
    "from sklearn.naive_bayes import GaussianNB\n",
    "from sklearn.tree import DecisionTreeClassifier\n",
    "from sklearn.ensemble import RandomForestClassifier\n",
    "from sklearn.svm import SVC\n",
    "from sklearn.metrics import accuracy_score, precision_score, recall_score, f1_score, confusion_matrix, classification_report, roc_auc_score, roc_curve\n",
    "from sklearn.preprocessing import StandardScaler\n",
    "from sklearn.metrics import accuracy_score, precision_score, recall_score, f1_score, roc_auc_score, roc_curve, confusion_matrix, classification_report\n",
    "from sklearn.preprocessing import label_binarize"
   ]
  },
  {
   "cell_type": "markdown",
   "metadata": {},
   "source": [
    "# Cargar datos"
   ]
  },
  {
   "cell_type": "code",
   "execution_count": 4,
   "metadata": {},
   "outputs": [],
   "source": [
    "df = pd.read_csv(\"data/processed/data_preprocessed_final.csv\")"
   ]
  },
  {
   "cell_type": "code",
   "execution_count": 5,
   "metadata": {},
   "outputs": [],
   "source": [
    "X = df.iloc[:, 1:].drop('result', axis=1)\n",
    "y = df['result']"
   ]
  },
  {
   "cell_type": "code",
   "execution_count": 6,
   "metadata": {},
   "outputs": [],
   "source": [
    "# Escalar los datos\n",
    "scaler = StandardScaler()\n",
    "X_scaled = scaler.fit_transform(X)"
   ]
  },
  {
   "cell_type": "code",
   "execution_count": 7,
   "metadata": {},
   "outputs": [],
   "source": [
    "# Dividir datos en entrenamiento y prueba\n",
    "X_train, X_test, y_train, y_test = train_test_split(X, y, test_size=0.3, random_state=42)"
   ]
  },
  {
   "cell_type": "code",
   "execution_count": 8,
   "metadata": {},
   "outputs": [],
   "source": [
    "# Entrenar modelos\n",
    "models = {\n",
    "    'KNN': KNeighborsClassifier(),\n",
    "    'Naive Bayes': GaussianNB(), \n",
    "    'Decision Tree': DecisionTreeClassifier(),\n",
    "    'Random Forest': RandomForestClassifier(n_jobs=-1),\n",
    "    'Support Vector Machine': SVC(probability=True)  \n",
    "}"
   ]
  },
  {
   "cell_type": "code",
   "execution_count": null,
   "metadata": {},
   "outputs": [
    {
     "name": "stdout",
     "output_type": "stream",
     "text": [
      "Model: KNN\n",
      "Confusion Matrix:\n",
      "[[ 1049  6605]\n",
      " [ 1852 16228]]\n",
      "Classification Report:\n",
      "              precision    recall  f1-score   support\n",
      "\n",
      "           0       0.36      0.14      0.20      7654\n",
      "           1       0.71      0.90      0.79     18080\n",
      "\n",
      "    accuracy                           0.67     25734\n",
      "   macro avg       0.54      0.52      0.50     25734\n",
      "weighted avg       0.61      0.67      0.62     25734\n",
      "\n",
      "------------------------------------------------------------\n",
      "Model: Naive Bayes\n",
      "Confusion Matrix:\n",
      "[[ 1228  6426]\n",
      " [  668 17412]]\n",
      "Classification Report:\n",
      "              precision    recall  f1-score   support\n",
      "\n",
      "           0       0.65      0.16      0.26      7654\n",
      "           1       0.73      0.96      0.83     18080\n",
      "\n",
      "    accuracy                           0.72     25734\n",
      "   macro avg       0.69      0.56      0.54     25734\n",
      "weighted avg       0.71      0.72      0.66     25734\n",
      "\n",
      "------------------------------------------------------------\n",
      "Model: Decision Tree\n",
      "Confusion Matrix:\n",
      "[[ 2547  5107]\n",
      " [ 6851 11229]]\n",
      "Classification Report:\n",
      "              precision    recall  f1-score   support\n",
      "\n",
      "           0       0.27      0.33      0.30      7654\n",
      "           1       0.69      0.62      0.65     18080\n",
      "\n",
      "    accuracy                           0.54     25734\n",
      "   macro avg       0.48      0.48      0.48     25734\n",
      "weighted avg       0.56      0.54      0.55     25734\n",
      "\n",
      "------------------------------------------------------------\n",
      "Model: Random Forest\n",
      "Confusion Matrix:\n",
      "[[ 1048  6606]\n",
      " [ 4008 14072]]\n",
      "Classification Report:\n",
      "              precision    recall  f1-score   support\n",
      "\n",
      "           0       0.21      0.14      0.16      7654\n",
      "           1       0.68      0.78      0.73     18080\n",
      "\n",
      "    accuracy                           0.59     25734\n",
      "   macro avg       0.44      0.46      0.45     25734\n",
      "weighted avg       0.54      0.59      0.56     25734\n",
      "\n",
      "------------------------------------------------------------\n"
     ]
    }
   ],
   "source": [
    "# Evaluar modelos\n",
    "results = {}\n",
    "confusion_matrices = {}\n",
    "roc_curves = {}\n",
    "\n",
    "for model_name, model in models.items():\n",
    "    model.fit(X_train, y_train)\n",
    "    y_pred = model.predict(X_test)\n",
    "    y_proba = model.predict_proba(X_test) if hasattr(model, \"predict_proba\") else None\n",
    "    \n",
    "    accuracy = accuracy_score(y_test, y_pred)\n",
    "    precision = precision_score(y_test, y_pred, average='weighted', zero_division=1)\n",
    "    recall = recall_score(y_test, y_pred, average='weighted', zero_division=1)\n",
    "    f1 = f1_score(y_test, y_pred, average='weighted', zero_division=1)\n",
    "    \n",
    "    # Calcular AUC solo si es binario o si hay predict_proba para multiclase\n",
    "    if y_proba is not None:\n",
    "        if len(np.unique(y_test)) == 2:  # Clasificación binaria\n",
    "            auc = roc_auc_score(y_test, y_proba[:, 1])\n",
    "        else:  # Clasificación multiclase\n",
    "            y_test_bin = label_binarize(y_test, classes=np.unique(y_test))  # Binarizamos las etiquetas\n",
    "            auc = roc_auc_score(y_test_bin, y_proba, multi_class='ovr')\n",
    "    else:\n",
    "        auc = None\n",
    "    \n",
    "    results[model_name] = [accuracy, precision, recall, f1, auc]\n",
    "    \n",
    "    # Calcular matriz de confusión\n",
    "    confusion_matrices[model_name] = confusion_matrix(y_test, y_pred)\n",
    "    \n",
    "    # Calcular ROC solo para problemas binarios\n",
    "    if y_proba is not None and len(np.unique(y_test)) == 2:\n",
    "        fpr, tpr, _ = roc_curve(y_test, y_proba[:, 1])\n",
    "        roc_curves[model_name] = (fpr, tpr)\n",
    "    \n",
    "    # Imprimir resultados\n",
    "    print(f\"Model: {model_name}\")\n",
    "    print(\"Confusion Matrix:\")\n",
    "    print(confusion_matrices[model_name])\n",
    "    print(\"Classification Report:\")\n",
    "    print(classification_report(y_test, y_pred, zero_division=1))\n",
    "    print(\"-\" * 60)"
   ]
  },
  {
   "cell_type": "code",
   "execution_count": null,
   "metadata": {},
   "outputs": [],
   "source": [
    "# Crear DataFrame con los resultados\n",
    "results_df = pd.DataFrame(results, index=['Accuracy', 'Precision', 'Recall', 'F1 Score', 'AUC']).T\n",
    "print(results_df)"
   ]
  },
  {
   "cell_type": "code",
   "execution_count": null,
   "metadata": {},
   "outputs": [],
   "source": [
    "# Visualizar resultados\n",
    "plt.figure(figsize=(10, 6))\n",
    "sns.barplot(data=results_df.drop(columns='AUC'))\n",
    "plt.title('Comparison of Machine Learning Models')\n",
    "plt.show()"
   ]
  },
  {
   "cell_type": "code",
   "execution_count": null,
   "metadata": {},
   "outputs": [],
   "source": [
    "# Visualizar las matrices de confusión\n",
    "fig, axes = plt.subplots(2, 2, figsize=(14, 10))\n",
    "axes = axes.flatten()\n",
    "for i, (model_name, cm) in enumerate(confusion_matrices.items()):\n",
    "    sns.heatmap(cm, annot=True, fmt='d', ax=axes[i], cmap='Blues')\n",
    "    axes[i].set_title(f'Confusion Matrix: {model_name}')\n",
    "    axes[i].set_xlabel('Predicted')\n",
    "    axes[i].set_ylabel('Actual')\n",
    "plt.tight_layout()\n",
    "plt.show()"
   ]
  },
  {
   "cell_type": "code",
   "execution_count": null,
   "metadata": {},
   "outputs": [],
   "source": [
    "# Visualizar las curvas ROC (solo para clasificación binaria)\n",
    "if len(np.unique(y)) == 2:\n",
    "    plt.figure(figsize=(10, 6))\n",
    "    for model_name, (fpr, tpr) in roc_curves.items():\n",
    "        plt.plot(fpr, tpr, label=f'{model_name} (AUC = {results[model_name][-1]:.2f})')\n",
    "    plt.plot([0, 1], [0, 1], 'k--')\n",
    "    plt.xlabel('False Positive Rate')\n",
    "    plt.ylabel('True Positive Rate')\n",
    "    plt.title('ROC Curves')\n",
    "    plt.legend(loc='lower right')\n",
    "    plt.show()"
   ]
  },
  {
   "cell_type": "code",
   "execution_count": null,
   "metadata": {},
   "outputs": [],
   "source": []
  }
 ],
 "metadata": {
  "kernelspec": {
   "display_name": "Python 3 (ipykernel)",
   "language": "python",
   "name": "python3"
  },
  "language_info": {
   "codemirror_mode": {
    "name": "ipython",
    "version": 3
   },
   "file_extension": ".py",
   "mimetype": "text/x-python",
   "name": "python",
   "nbconvert_exporter": "python",
   "pygments_lexer": "ipython3",
   "version": "3.12.4"
  }
 },
 "nbformat": 4,
 "nbformat_minor": 4
}
